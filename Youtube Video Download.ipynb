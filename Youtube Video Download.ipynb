{
 "cells": [
  {
   "cell_type": "markdown",
   "id": "1c83d65d",
   "metadata": {},
   "source": [
    "This code simply download a video in youtube."
   ]
  },
  {
   "cell_type": "code",
   "execution_count": 3,
   "id": "6c740c2b",
   "metadata": {},
   "outputs": [
    {
     "data": {
      "text/plain": [
       "'/Users/ks/Desktop/venv/YoutubeVideoDownloader/馮允謙 Jay Fung - 一步一悔過 Sorry (Official Music Video).3gpp'"
      ]
     },
     "execution_count": 3,
     "metadata": {},
     "output_type": "execute_result"
    }
   ],
   "source": [
    "import os\n",
    "from pytube import YouTube \n",
    "import ssl\n",
    "\n",
    "ssl._create_default_https_context = ssl._create_unverified_context\n",
    "url=\"https://www.youtube.com/watch?v=63e7AuV_X7Q&ab_channel=JayFung%E9%A6%AE%E5%85%81%E8%AC%99\"\n",
    "yt = YouTube(url) \n",
    "stream = yt.streams.first()\n",
    "stream.download()"
   ]
  },
  {
   "cell_type": "code",
   "execution_count": null,
   "id": "4e3f06a7",
   "metadata": {},
   "outputs": [],
   "source": []
  }
 ],
 "metadata": {
  "kernelspec": {
   "display_name": "Python 3 (ipykernel)",
   "language": "python",
   "name": "python3"
  },
  "language_info": {
   "codemirror_mode": {
    "name": "ipython",
    "version": 3
   },
   "file_extension": ".py",
   "mimetype": "text/x-python",
   "name": "python",
   "nbconvert_exporter": "python",
   "pygments_lexer": "ipython3",
   "version": "3.9.6"
  }
 },
 "nbformat": 4,
 "nbformat_minor": 5
}
